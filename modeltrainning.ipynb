{
 "cells": [
  {
   "cell_type": "code",
   "execution_count": 103,
   "id": "a72ef4f6-f327-4493-9453-2e7992bc5003",
   "metadata": {},
   "outputs": [],
   "source": [
    "import pandas as pd\n",
    "from sklearn.tree import DecisionTreeClassifier\n",
    "from sklearn import tree\n",
    "\n",
    "# Load dataset\n",
    "music_df = pd.read_csv('music.csv')\n",
    "a = music_df.drop(columns=['genre'])\n",
    "b = music_df['genre']\n",
    "\n",
    "# Train the model\n",
    "model = DecisionTreeClassifier()\n",
    "model.fit(a, b)\n",
    "\n",
    "# Export the decision tree to a .dot file\n",
    "tree.export_graphviz(\n",
    "    model,                                # model goes as first argument (positional)\n",
    "    out_file='music_reccc.dot',\n",
    "    feature_names=['age', 'gender'],\n",
    "    class_names=sorted(b.unique()),\n",
    "    label='all',\n",
    "    rounded=True,\n",
    "    filled=True\n",
    ")"
   ]
  },
  {
   "cell_type": "code",
   "execution_count": null,
   "id": "04aad4db-e989-4b5c-8a01-a1c88f74e482",
   "metadata": {},
   "outputs": [],
   "source": []
  }
 ],
 "metadata": {
  "kernelspec": {
   "display_name": "Python 3 (ipykernel)",
   "language": "python",
   "name": "python3"
  },
  "language_info": {
   "codemirror_mode": {
    "name": "ipython",
    "version": 3
   },
   "file_extension": ".py",
   "mimetype": "text/x-python",
   "name": "python",
   "nbconvert_exporter": "python",
   "pygments_lexer": "ipython3",
   "version": "3.12.7"
  }
 },
 "nbformat": 4,
 "nbformat_minor": 5
}
